{
 "cells": [
  {
   "cell_type": "code",
   "execution_count": 1,
   "id": "4a9e7324-3f4e-4787-819f-8f06b247baf3",
   "metadata": {},
   "outputs": [
    {
     "name": "stdout",
     "output_type": "stream",
     "text": [
      "Requirement already satisfied: pandas in e:\\new folder\\lib\\site-packages (2.2.2)\n",
      "Requirement already satisfied: numpy in e:\\new folder\\lib\\site-packages (1.26.4)\n",
      "Requirement already satisfied: scikit-learn in e:\\new folder\\lib\\site-packages (1.6.1)\n",
      "Requirement already satisfied: flask in e:\\new folder\\lib\\site-packages (3.0.3)\n",
      "Requirement already satisfied: python-dateutil>=2.8.2 in e:\\new folder\\lib\\site-packages (from pandas) (2.9.0.post0)\n",
      "Requirement already satisfied: pytz>=2020.1 in e:\\new folder\\lib\\site-packages (from pandas) (2024.1)\n",
      "Requirement already satisfied: tzdata>=2022.7 in e:\\new folder\\lib\\site-packages (from pandas) (2023.3)\n",
      "Requirement already satisfied: scipy>=1.6.0 in e:\\new folder\\lib\\site-packages (from scikit-learn) (1.13.1)\n",
      "Requirement already satisfied: joblib>=1.2.0 in e:\\new folder\\lib\\site-packages (from scikit-learn) (1.4.2)\n",
      "Requirement already satisfied: threadpoolctl>=3.1.0 in e:\\new folder\\lib\\site-packages (from scikit-learn) (3.5.0)\n",
      "Requirement already satisfied: Werkzeug>=3.0.0 in e:\\new folder\\lib\\site-packages (from flask) (3.0.3)\n",
      "Requirement already satisfied: Jinja2>=3.1.2 in e:\\new folder\\lib\\site-packages (from flask) (3.1.4)\n",
      "Requirement already satisfied: itsdangerous>=2.1.2 in e:\\new folder\\lib\\site-packages (from flask) (2.2.0)\n",
      "Requirement already satisfied: click>=8.1.3 in e:\\new folder\\lib\\site-packages (from flask) (8.1.7)\n",
      "Requirement already satisfied: blinker>=1.6.2 in e:\\new folder\\lib\\site-packages (from flask) (1.6.2)\n",
      "Requirement already satisfied: colorama in e:\\new folder\\lib\\site-packages (from click>=8.1.3->flask) (0.4.6)\n",
      "Requirement already satisfied: MarkupSafe>=2.0 in e:\\new folder\\lib\\site-packages (from Jinja2>=3.1.2->flask) (2.1.3)\n",
      "Requirement already satisfied: six>=1.5 in e:\\new folder\\lib\\site-packages (from python-dateutil>=2.8.2->pandas) (1.16.0)\n"
     ]
    }
   ],
   "source": [
    "!pip install pandas numpy scikit-learn flask\n"
   ]
  },
  {
   "cell_type": "code",
   "execution_count": 2,
   "id": "8eb596de-6304-48bc-af8e-61866451eb49",
   "metadata": {},
   "outputs": [],
   "source": [
    "import pandas as pd\n",
    "import numpy as np\n",
    "from sklearn.metrics.pairwise import cosine_similarity\n",
    "from sklearn.preprocessing import MinMaxScaler"
   ]
  },
  {
   "cell_type": "code",
   "execution_count": 3,
   "id": "b522b460-a83c-4707-81f6-736738da3443",
   "metadata": {},
   "outputs": [
    {
     "data": {
      "text/html": [
       "<div>\n",
       "<style scoped>\n",
       "    .dataframe tbody tr th:only-of-type {\n",
       "        vertical-align: middle;\n",
       "    }\n",
       "\n",
       "    .dataframe tbody tr th {\n",
       "        vertical-align: top;\n",
       "    }\n",
       "\n",
       "    .dataframe thead th {\n",
       "        text-align: right;\n",
       "    }\n",
       "</style>\n",
       "<table border=\"1\" class=\"dataframe\">\n",
       "  <thead>\n",
       "    <tr style=\"text-align: right;\">\n",
       "      <th></th>\n",
       "      <th>artist</th>\n",
       "      <th>song</th>\n",
       "      <th>duration_ms</th>\n",
       "      <th>explicit</th>\n",
       "      <th>year</th>\n",
       "      <th>popularity</th>\n",
       "      <th>danceability</th>\n",
       "      <th>energy</th>\n",
       "      <th>key</th>\n",
       "      <th>loudness</th>\n",
       "      <th>mode</th>\n",
       "      <th>speechiness</th>\n",
       "      <th>acousticness</th>\n",
       "      <th>instrumentalness</th>\n",
       "      <th>liveness</th>\n",
       "      <th>valence</th>\n",
       "      <th>tempo</th>\n",
       "      <th>genre</th>\n",
       "    </tr>\n",
       "  </thead>\n",
       "  <tbody>\n",
       "    <tr>\n",
       "      <th>0</th>\n",
       "      <td>Britney Spears</td>\n",
       "      <td>Oops!...I Did It Again</td>\n",
       "      <td>211160</td>\n",
       "      <td>False</td>\n",
       "      <td>2000</td>\n",
       "      <td>77</td>\n",
       "      <td>0.751</td>\n",
       "      <td>0.834</td>\n",
       "      <td>1</td>\n",
       "      <td>-5.444</td>\n",
       "      <td>0</td>\n",
       "      <td>0.0437</td>\n",
       "      <td>0.3000</td>\n",
       "      <td>0.000018</td>\n",
       "      <td>0.3550</td>\n",
       "      <td>0.894</td>\n",
       "      <td>95.053</td>\n",
       "      <td>pop</td>\n",
       "    </tr>\n",
       "    <tr>\n",
       "      <th>1</th>\n",
       "      <td>blink-182</td>\n",
       "      <td>All The Small Things</td>\n",
       "      <td>167066</td>\n",
       "      <td>False</td>\n",
       "      <td>1999</td>\n",
       "      <td>79</td>\n",
       "      <td>0.434</td>\n",
       "      <td>0.897</td>\n",
       "      <td>0</td>\n",
       "      <td>-4.918</td>\n",
       "      <td>1</td>\n",
       "      <td>0.0488</td>\n",
       "      <td>0.0103</td>\n",
       "      <td>0.000000</td>\n",
       "      <td>0.6120</td>\n",
       "      <td>0.684</td>\n",
       "      <td>148.726</td>\n",
       "      <td>rock, pop</td>\n",
       "    </tr>\n",
       "    <tr>\n",
       "      <th>2</th>\n",
       "      <td>Faith Hill</td>\n",
       "      <td>Breathe</td>\n",
       "      <td>250546</td>\n",
       "      <td>False</td>\n",
       "      <td>1999</td>\n",
       "      <td>66</td>\n",
       "      <td>0.529</td>\n",
       "      <td>0.496</td>\n",
       "      <td>7</td>\n",
       "      <td>-9.007</td>\n",
       "      <td>1</td>\n",
       "      <td>0.0290</td>\n",
       "      <td>0.1730</td>\n",
       "      <td>0.000000</td>\n",
       "      <td>0.2510</td>\n",
       "      <td>0.278</td>\n",
       "      <td>136.859</td>\n",
       "      <td>pop, country</td>\n",
       "    </tr>\n",
       "    <tr>\n",
       "      <th>3</th>\n",
       "      <td>Bon Jovi</td>\n",
       "      <td>It's My Life</td>\n",
       "      <td>224493</td>\n",
       "      <td>False</td>\n",
       "      <td>2000</td>\n",
       "      <td>78</td>\n",
       "      <td>0.551</td>\n",
       "      <td>0.913</td>\n",
       "      <td>0</td>\n",
       "      <td>-4.063</td>\n",
       "      <td>0</td>\n",
       "      <td>0.0466</td>\n",
       "      <td>0.0263</td>\n",
       "      <td>0.000013</td>\n",
       "      <td>0.3470</td>\n",
       "      <td>0.544</td>\n",
       "      <td>119.992</td>\n",
       "      <td>rock, metal</td>\n",
       "    </tr>\n",
       "    <tr>\n",
       "      <th>4</th>\n",
       "      <td>*NSYNC</td>\n",
       "      <td>Bye Bye Bye</td>\n",
       "      <td>200560</td>\n",
       "      <td>False</td>\n",
       "      <td>2000</td>\n",
       "      <td>65</td>\n",
       "      <td>0.614</td>\n",
       "      <td>0.928</td>\n",
       "      <td>8</td>\n",
       "      <td>-4.806</td>\n",
       "      <td>0</td>\n",
       "      <td>0.0516</td>\n",
       "      <td>0.0408</td>\n",
       "      <td>0.001040</td>\n",
       "      <td>0.0845</td>\n",
       "      <td>0.879</td>\n",
       "      <td>172.656</td>\n",
       "      <td>pop</td>\n",
       "    </tr>\n",
       "  </tbody>\n",
       "</table>\n",
       "</div>"
      ],
      "text/plain": [
       "           artist                    song  duration_ms  explicit  year  \\\n",
       "0  Britney Spears  Oops!...I Did It Again       211160     False  2000   \n",
       "1       blink-182    All The Small Things       167066     False  1999   \n",
       "2      Faith Hill                 Breathe       250546     False  1999   \n",
       "3        Bon Jovi            It's My Life       224493     False  2000   \n",
       "4          *NSYNC             Bye Bye Bye       200560     False  2000   \n",
       "\n",
       "   popularity  danceability  energy  key  loudness  mode  speechiness  \\\n",
       "0          77         0.751   0.834    1    -5.444     0       0.0437   \n",
       "1          79         0.434   0.897    0    -4.918     1       0.0488   \n",
       "2          66         0.529   0.496    7    -9.007     1       0.0290   \n",
       "3          78         0.551   0.913    0    -4.063     0       0.0466   \n",
       "4          65         0.614   0.928    8    -4.806     0       0.0516   \n",
       "\n",
       "   acousticness  instrumentalness  liveness  valence    tempo         genre  \n",
       "0        0.3000          0.000018    0.3550    0.894   95.053           pop  \n",
       "1        0.0103          0.000000    0.6120    0.684  148.726     rock, pop  \n",
       "2        0.1730          0.000000    0.2510    0.278  136.859  pop, country  \n",
       "3        0.0263          0.000013    0.3470    0.544  119.992   rock, metal  \n",
       "4        0.0408          0.001040    0.0845    0.879  172.656           pop  "
      ]
     },
     "execution_count": 3,
     "metadata": {},
     "output_type": "execute_result"
    }
   ],
   "source": [
    "# Load the dataset\n",
    "df = pd.read_csv('spotify_data.csv')\n",
    "\n",
    "# Display the first few rows\n",
    "df.head()"
   ]
  },
  {
   "cell_type": "code",
   "execution_count": 4,
   "id": "f078c399-1104-412c-a4d7-94037b063e3a",
   "metadata": {},
   "outputs": [
    {
     "data": {
      "text/plain": [
       "artist              0\n",
       "song                0\n",
       "duration_ms         0\n",
       "explicit            0\n",
       "year                0\n",
       "popularity          0\n",
       "danceability        0\n",
       "energy              0\n",
       "key                 0\n",
       "loudness            0\n",
       "mode                0\n",
       "speechiness         0\n",
       "acousticness        0\n",
       "instrumentalness    0\n",
       "liveness            0\n",
       "valence             0\n",
       "tempo               0\n",
       "genre               0\n",
       "dtype: int64"
      ]
     },
     "execution_count": 4,
     "metadata": {},
     "output_type": "execute_result"
    }
   ],
   "source": [
    "# Check for missing values\n",
    "df.isnull().sum()"
   ]
  },
  {
   "cell_type": "code",
   "execution_count": 5,
   "id": "f1f5e07b-dd62-4e9b-9aae-cf4240395e0f",
   "metadata": {},
   "outputs": [],
   "source": [
    "# Drop duplicate songs\n",
    "df = df.drop_duplicates(subset=['song'])"
   ]
  },
  {
   "cell_type": "code",
   "execution_count": 6,
   "id": "9568ff54-706a-4a6e-a1b3-a2d9571b8fde",
   "metadata": {},
   "outputs": [],
   "source": [
    "# Select numerical features for normalization\n",
    "numerical_features = ['duration_ms', 'danceability', 'energy', 'loudness', 'speechiness', \n",
    "                      'acousticness', 'instrumentalness', 'liveness', 'valence', 'tempo', 'popularity']\n",
    "\n",
    "# Normalize the features using MinMaxScaler\n",
    "scaler = MinMaxScaler()\n",
    "df[numerical_features] = scaler.fit_transform(df[numerical_features])"
   ]
  },
  {
   "cell_type": "code",
   "execution_count": 7,
   "id": "894dffec-dfa9-4def-8e60-a15006d62de6",
   "metadata": {},
   "outputs": [],
   "source": [
    "# Combine features into a single feature vector\n",
    "df['feature_vector'] = df[numerical_features].apply(lambda x: x.tolist(), axis=1)"
   ]
  },
  {
   "cell_type": "code",
   "execution_count": 8,
   "id": "62a5c39a-62e0-4085-83fb-90b912868fda",
   "metadata": {},
   "outputs": [],
   "source": [
    "# Create a feature matrix\n",
    "feature_matrix = np.array(df['feature_vector'].tolist())"
   ]
  },
  {
   "cell_type": "code",
   "execution_count": 9,
   "id": "87f91026-87fc-4ee9-8a9a-98499cfef7d8",
   "metadata": {},
   "outputs": [],
   "source": [
    "# Compute cosine similarity between songs\n",
    "cosine_sim = cosine_similarity(feature_matrix)"
   ]
  },
  {
   "cell_type": "code",
   "execution_count": 10,
   "id": "9d675193-0913-48b6-b954-c174c5dee409",
   "metadata": {},
   "outputs": [],
   "source": [
    "# Create a DataFrame for the similarity matrix\n",
    "similarity_df = pd.DataFrame(cosine_sim, index=df['song'], columns=df['song'])"
   ]
  },
  {
   "cell_type": "code",
   "execution_count": 11,
   "id": "ac3e6fd9-4e78-41b7-8732-5d8655d7fedb",
   "metadata": {},
   "outputs": [],
   "source": [
    "def recommend_songs(song_name, num_recommendations=5):\n",
    "    \"\"\"\n",
    "    Recommend songs based on cosine similarity.\n",
    "    \n",
    "    Parameters:\n",
    "    - song_name: Name of the song.\n",
    "    - num_recommendations: Number of recommendations to return.\n",
    "    \n",
    "    Returns:\n",
    "    - List of recommended songs.\n",
    "    \"\"\"\n",
    "    # Get the similarity scores for the song\n",
    "    sim_scores = similarity_df[song_name]\n",
    "    \n",
    "    # Sort the songs based on similarity scores\n",
    "    sim_scores = sim_scores.sort_values(ascending=False)\n",
    "    \n",
    "    # Get the top N recommendations (excluding the song itself)\n",
    "    top_recommendations = sim_scores.iloc[1:num_recommendations+1].index.tolist()\n",
    "    \n",
    "    return top_recommendations"
   ]
  },
  {
   "cell_type": "code",
   "execution_count": 12,
   "id": "11b49e7e-b5d3-40e5-9e9e-4d68ca2cc7fe",
   "metadata": {},
   "outputs": [
    {
     "name": "stdout",
     "output_type": "stream",
     "text": [
      "Recommended songs for 'Shape of You':\n",
      "1. Because Of You\n",
      "2. Sunflower - Spider-Man: Into the Spider-Verse\n",
      "3. Foolish\n",
      "4. Me & U\n",
      "5. Sin Pijama\n"
     ]
    }
   ],
   "source": [
    "# Test the recommendation system\n",
    "song_name = \"Shape of You\"  # Replace with a song from your dataset\n",
    "recommendations = recommend_songs(song_name)\n",
    "print(f\"Recommended songs for '{song_name}':\")\n",
    "for i, song in enumerate(recommendations, 1):\n",
    "    print(f\"{i}. {song}\")"
   ]
  },
  {
   "cell_type": "code",
   "execution_count": 13,
   "id": "b7e37072-ec0e-4581-9c23-fabfbd99f423",
   "metadata": {},
   "outputs": [],
   "source": [
    "similarity_df.to_csv('song_similarity_matrix.csv')"
   ]
  },
  {
   "cell_type": "code",
   "execution_count": 14,
   "id": "465b1223-6917-4a86-a0f0-63e5014cf7d7",
   "metadata": {},
   "outputs": [],
   "source": [
    "similarity_df = pd.read_csv('song_similarity_matrix.csv', index_col=0)"
   ]
  },
  {
   "cell_type": "code",
   "execution_count": 15,
   "id": "7077d5f3-3e1a-4360-9177-81cdbeb19a37",
   "metadata": {},
   "outputs": [
    {
     "name": "stdout",
     "output_type": "stream",
     "text": [
      "Requirement already satisfied: flask in e:\\new folder\\lib\\site-packages (3.0.3)\n",
      "Requirement already satisfied: Werkzeug>=3.0.0 in e:\\new folder\\lib\\site-packages (from flask) (3.0.3)\n",
      "Requirement already satisfied: Jinja2>=3.1.2 in e:\\new folder\\lib\\site-packages (from flask) (3.1.4)\n",
      "Requirement already satisfied: itsdangerous>=2.1.2 in e:\\new folder\\lib\\site-packages (from flask) (2.2.0)\n",
      "Requirement already satisfied: click>=8.1.3 in e:\\new folder\\lib\\site-packages (from flask) (8.1.7)\n",
      "Requirement already satisfied: blinker>=1.6.2 in e:\\new folder\\lib\\site-packages (from flask) (1.6.2)\n",
      "Requirement already satisfied: colorama in e:\\new folder\\lib\\site-packages (from click>=8.1.3->flask) (0.4.6)\n",
      "Requirement already satisfied: MarkupSafe>=2.0 in e:\\new folder\\lib\\site-packages (from Jinja2>=3.1.2->flask) (2.1.3)\n",
      "Note: you may need to restart the kernel to use updated packages.\n"
     ]
    }
   ],
   "source": [
    "pip install flask\n"
   ]
  },
  {
   "cell_type": "code",
   "execution_count": 16,
   "id": "f18ba343-ddd1-4bbb-ba76-151020713b8f",
   "metadata": {},
   "outputs": [
    {
     "name": "stdout",
     "output_type": "stream",
     "text": [
      "C:\\Users\\mehar\n"
     ]
    }
   ],
   "source": [
    "import os\n",
    "print(os.getcwd())"
   ]
  },
  {
   "cell_type": "code",
   "execution_count": null,
   "id": "78bfa91e-c718-4a6e-b7d6-5f8111179e7d",
   "metadata": {},
   "outputs": [],
   "source": [
    "#Run On Command Prompt BY python app1.py on Command prompt"
   ]
  }
 ],
 "metadata": {
  "kernelspec": {
   "display_name": "Python 3 (ipykernel)",
   "language": "python",
   "name": "python3"
  },
  "language_info": {
   "codemirror_mode": {
    "name": "ipython",
    "version": 3
   },
   "file_extension": ".py",
   "mimetype": "text/x-python",
   "name": "python",
   "nbconvert_exporter": "python",
   "pygments_lexer": "ipython3",
   "version": "3.12.4"
  }
 },
 "nbformat": 4,
 "nbformat_minor": 5
}
